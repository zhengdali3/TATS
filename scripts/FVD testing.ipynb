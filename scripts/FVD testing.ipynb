{
 "cells": [
  {
   "cell_type": "code",
   "execution_count": 4,
   "id": "00d2e9bb-6fea-44ba-be78-c00e0f305894",
   "metadata": {},
   "outputs": [],
   "source": [
    "import sys\n",
    "sys.path.insert(0, '/userhome/42/msd21003/TATS')"
   ]
  },
  {
   "cell_type": "code",
   "execution_count": 5,
   "id": "59b161e7-e165-4dc1-8b36-314d8bb047e0",
   "metadata": {},
   "outputs": [],
   "source": [
    "import numpy as np\n",
    "import torch\n",
    "import argparse\n",
    "from tats import VideoData\n",
    "from tats.utils import shift_dim\n",
    "from tats.fvd.fvd import get_fvd_logits, frechet_distance, load_fvd_model, polynomial_mmd"
   ]
  },
  {
   "cell_type": "code",
   "execution_count": 7,
   "id": "53c7d85f-e940-4b07-9c4b-777b363fb67b",
   "metadata": {},
   "outputs": [
    {
     "data": {
      "application/vnd.jupyter.widget-view+json": {
       "model_id": "bca575dd68f44ac98279d7736234b8c8",
       "version_major": 2,
       "version_minor": 0
      },
      "text/plain": [
       "  0%|          | 0/168 [00:00<?, ?it/s]"
      ]
     },
     "metadata": {},
     "output_type": "display_data"
    },
    {
     "name": "stdout",
     "output_type": "stream",
     "text": [
      "computing fvd embeddings for real videos\n",
      "caoncat fvd embeddings for real videos\n",
      "computing fvd embeddings for fake videos\n",
      "caoncat fvd embeddings for fake videos\n",
      "FVD = 264.81\n",
      "KVD = 47.50\n"
     ]
    }
   ],
   "source": [
    "# parser = argparse.ArgumentParser()\n",
    "# parser = VideoData.add_data_specific_args(parser)\n",
    "# args = parser.parse_args()\n",
    "\n",
    "class Args:\n",
    "    data_path = '/datasets01/Kinetics400_Frames/videos'\n",
    "    dataset = 'taichi'\n",
    "    sequence_length=16\n",
    "    resolution=64\n",
    "    batch_size=32\n",
    "    num_workers=8\n",
    "    image_channels=3\n",
    "    smap_cond=0\n",
    "    spatial_length=15\n",
    "    sample_every_n_frames=1\n",
    "    image_folder=False\n",
    "    \n",
    "args=Args()\n",
    "\n",
    "npFile = \"/userhome/42/msd21003/result/numpy_files/\" + args.dataset + \"/topp0.92_topk2048_run0_eval.npy\"\n",
    "args.data_path = \"/userhome/42/msd21003/\" + args.dataset\n",
    "\n",
    "all_data_np = np.load(npFile)\n",
    "device = torch.device('cuda')\n",
    "i3d = load_fvd_model(device)\n",
    "data = VideoData(args)\n",
    "loader = data.train_dataloader()\n",
    "real_embeddings = []\n",
    "print('computing fvd embeddings for real videos')\n",
    "for batch in loader:\n",
    "    real_embeddings.append(\n",
    "        get_fvd_logits(shift_dim((batch['video'] + 0.5) * 255, 1, -1).byte().data.numpy(), i3d=i3d, device=device))\n",
    "    if len(real_embeddings) * args.batch_size >= 2048: break\n",
    "print('caoncat fvd embeddings for real videos')\n",
    "real_embeddings = torch.cat(real_embeddings, 0)[:2048]\n",
    "print('computing fvd embeddings for fake videos')\n",
    "fake_embeddings = []\n",
    "n_batch = all_data_np.shape[0] // args.batch_size\n",
    "for i in range(n_batch):\n",
    "    fake_embeddings.append(\n",
    "        get_fvd_logits(all_data_np[i * args.batch_size:(i + 1) * args.batch_size], i3d=i3d, device=device))\n",
    "print('caoncat fvd embeddings for fake videos')\n",
    "fake_embeddings = torch.cat(fake_embeddings, 0)[:2048]\n",
    "print('FVD = %.2f' % (frechet_distance(fake_embeddings, real_embeddings)))\n",
    "print('KVD = %.2f' % (polynomial_mmd(fake_embeddings.cpu(), real_embeddings.cpu())))"
   ]
  }
 ],
 "metadata": {
  "kernelspec": {
   "display_name": "Python 3 (ipykernel)",
   "language": "python",
   "name": "python3"
  },
  "language_info": {
   "codemirror_mode": {
    "name": "ipython",
    "version": 3
   },
   "file_extension": ".py",
   "mimetype": "text/x-python",
   "name": "python",
   "nbconvert_exporter": "python",
   "pygments_lexer": "ipython3",
   "version": "3.8.15"
  }
 },
 "nbformat": 4,
 "nbformat_minor": 5
}
